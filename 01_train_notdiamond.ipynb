{
 "cells": [
  {
   "cell_type": "code",
   "execution_count": 1,
   "metadata": {},
   "outputs": [],
   "source": [
    "import pandas as pd\n",
    "from notdiamond.toolkit import CustomRouter\n",
    "from dotenv import load_dotenv\n",
    "load_dotenv()\n",
    "from src.generate import generate_prompt"
   ]
  },
  {
   "cell_type": "code",
   "execution_count": 2,
   "metadata": {},
   "outputs": [
    {
     "name": "stdout",
     "output_type": "stream",
     "text": [
      "Index(['provider', 'set', 'text', 'label', 'response', 'predicted', 'score',\n",
      "       'input'],\n",
      "      dtype='object')\n"
     ]
    }
   ],
   "source": [
    "df = pd.read_csv(\"data/results.csv\")\n",
    "df['input']  = df['text'].apply(lambda x: generate_prompt(x).format())\n",
    "print(df.columns)"
   ]
  },
  {
   "cell_type": "code",
   "execution_count": 3,
   "metadata": {},
   "outputs": [],
   "source": [
    "llm_providers = [\n",
    "    \"openai/gpt-4o-2024-08-06\",\n",
    "    \"openai/gpt-4o-mini-2024-07-18\",\n",
    "    \"google/gemini-1.5-pro-latest\",\n",
    "    \"mistral/mistral-large-2407\",\n",
    "    \"togetherai/DeepSeek-R1\",\n",
    "    \"perplexity/sonar\"\n",
    "]\n",
    "\n",
    "pzn_train = {}\n",
    "pzn_test = {}\n",
    "for provider in llm_providers:\n",
    "    provider_results = df[df[\"provider\"] == provider][[\"set\", \"input\", \"response\", \"score\"]]\n",
    "    \n",
    "    # Create train/test/extra split\n",
    "    train = provider_results[provider_results[\"set\"] == \"train\"].copy().drop(columns=[\"set\"])\n",
    "    test = provider_results[provider_results[\"set\"] == \"test\"].copy().drop(columns=[\"set\"])\n",
    "\n",
    "    pzn_train[provider] = train\n",
    "    pzn_test[provider] = test"
   ]
  },
  {
   "cell_type": "code",
   "execution_count": 4,
   "metadata": {},
   "outputs": [
    {
     "name": "stdout",
     "output_type": "stream",
     "text": [
      "Custom router preference ID:  935e585a-2a63-411d-a4da-b103ac4e6422\n"
     ]
    }
   ],
   "source": [
    "# Initialize the CustomRouter object for training\n",
    "trainer = CustomRouter(\n",
    "    language=\"english\",\n",
    "    maximize=True  # Indicate if higher scores are better (setting to False indicates the opposite)\n",
    ")\n",
    "\n",
    "# Train the model using your dataset\n",
    "preference_id = trainer.fit(\n",
    "    dataset=pzn_train, # The dataset containing inputs, responses, and scores\n",
    "    prompt_column=\"input\", # Column name for the input prompts\n",
    "    response_column=\"response\", # Column name for the model responses\n",
    "    score_column=\"score\" # Column name for the scores\n",
    ")\n",
    "\n",
    "print(\"Custom router preference ID: \", preference_id)"
   ]
  }
 ],
 "metadata": {
  "kernelspec": {
   "display_name": ".venv",
   "language": "python",
   "name": "python3"
  },
  "language_info": {
   "codemirror_mode": {
    "name": "ipython",
    "version": 3
   },
   "file_extension": ".py",
   "mimetype": "text/x-python",
   "name": "python",
   "nbconvert_exporter": "python",
   "pygments_lexer": "ipython3",
   "version": "3.12.0"
  }
 },
 "nbformat": 4,
 "nbformat_minor": 2
}
