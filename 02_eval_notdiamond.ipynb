{
 "cells": [
  {
   "cell_type": "code",
   "execution_count": 16,
   "metadata": {},
   "outputs": [],
   "source": [
    "import pandas as pd\n",
    "from notdiamond import NotDiamond\n",
    "from loguru import logger\n",
    "from dotenv import load_dotenv\n",
    "load_dotenv()\n",
    "\n",
    "from prompts import RACIAL_BIAS_SYSTEM_PROMPT\n",
    "from utils import extract_response"
   ]
  },
  {
   "cell_type": "code",
   "execution_count": 12,
   "metadata": {},
   "outputs": [
    {
     "name": "stdout",
     "output_type": "stream",
     "text": [
      "Index(['provider', 'set', 'text', 'label', 'response', 'predicted', 'score'], dtype='object')\n"
     ]
    }
   ],
   "source": [
    "df = pd.read_csv(\"data/results.csv\")\n",
    "print(df.columns)"
   ]
  },
  {
   "cell_type": "code",
   "execution_count": 5,
   "metadata": {},
   "outputs": [],
   "source": [
    "# Define the Not Diamond routing client\n",
    "client = NotDiamond()\n",
    "\n",
    "llm_providers = [\n",
    "    \"openai/gpt-4o-2024-08-06\",\n",
    "    \"openai/gpt-4o-mini-2024-07-18\",\n",
    "    \"google/gemini-1.5-pro-latest\",\n",
    "    \"mistral/mistral-large-2407\",\n",
    "    \"togetherai/DeepSeek-R1\",\n",
    "    \"perplexity/sonar\"\n",
    "]"
   ]
  },
  {
   "cell_type": "code",
   "execution_count": 15,
   "metadata": {},
   "outputs": [
    {
     "data": {
      "text/html": [
       "<div>\n",
       "<style scoped>\n",
       "    .dataframe tbody tr th:only-of-type {\n",
       "        vertical-align: middle;\n",
       "    }\n",
       "\n",
       "    .dataframe tbody tr th {\n",
       "        vertical-align: top;\n",
       "    }\n",
       "\n",
       "    .dataframe thead th {\n",
       "        text-align: right;\n",
       "    }\n",
       "</style>\n",
       "<table border=\"1\" class=\"dataframe\">\n",
       "  <thead>\n",
       "    <tr style=\"text-align: right;\">\n",
       "      <th></th>\n",
       "      <th>text</th>\n",
       "      <th>label</th>\n",
       "    </tr>\n",
       "  </thead>\n",
       "  <tbody>\n",
       "    <tr>\n",
       "      <th>0</th>\n",
       "      <td>do all members of that adhere to the same inte...</td>\n",
       "      <td>0</td>\n",
       "    </tr>\n",
       "    <tr>\n",
       "      <th>1</th>\n",
       "      <td>pedophile what the fuck does that even mean pa...</td>\n",
       "      <td>0</td>\n",
       "    </tr>\n",
       "    <tr>\n",
       "      <th>2</th>\n",
       "      <td>you gotta love antisemmetic people saying jews...</td>\n",
       "      <td>0</td>\n",
       "    </tr>\n",
       "    <tr>\n",
       "      <th>3</th>\n",
       "      <td>just imagine how many innocent black people ar...</td>\n",
       "      <td>0</td>\n",
       "    </tr>\n",
       "    <tr>\n",
       "      <th>4</th>\n",
       "      <td>if you think blm is segregating you should edu...</td>\n",
       "      <td>0</td>\n",
       "    </tr>\n",
       "    <tr>\n",
       "      <th>5</th>\n",
       "      <td>black people are awful period failed farming e...</td>\n",
       "      <td>1</td>\n",
       "    </tr>\n",
       "    <tr>\n",
       "      <th>6</th>\n",
       "      <td>i feel like driving in general is a pretty big...</td>\n",
       "      <td>1</td>\n",
       "    </tr>\n",
       "    <tr>\n",
       "      <th>7</th>\n",
       "      <td>keep listening to josephus judaism is devil wo...</td>\n",
       "      <td>1</td>\n",
       "    </tr>\n",
       "    <tr>\n",
       "      <th>8</th>\n",
       "      <td>nice work dickhead im definitely the one who i...</td>\n",
       "      <td>1</td>\n",
       "    </tr>\n",
       "    <tr>\n",
       "      <th>9</th>\n",
       "      <td>its almost as if many gay people are often dep...</td>\n",
       "      <td>1</td>\n",
       "    </tr>\n",
       "  </tbody>\n",
       "</table>\n",
       "</div>"
      ],
      "text/plain": [
       "                                                text  label\n",
       "0  do all members of that adhere to the same inte...      0\n",
       "1  pedophile what the fuck does that even mean pa...      0\n",
       "2  you gotta love antisemmetic people saying jews...      0\n",
       "3  just imagine how many innocent black people ar...      0\n",
       "4  if you think blm is segregating you should edu...      0\n",
       "5  black people are awful period failed farming e...      1\n",
       "6  i feel like driving in general is a pretty big...      1\n",
       "7  keep listening to josephus judaism is devil wo...      1\n",
       "8  nice work dickhead im definitely the one who i...      1\n",
       "9  its almost as if many gay people are often dep...      1"
      ]
     },
     "execution_count": 15,
     "metadata": {},
     "output_type": "execute_result"
    }
   ],
   "source": [
    "test_data = df[(df['provider'] == 'openai/gpt-4o-2024-08-06') & (df['set'] == 'test')][['text', 'label']].reset_index(drop=True)\n",
    "test_data"
   ]
  },
  {
   "cell_type": "markdown",
   "metadata": {},
   "source": [
    "## Not Diamond (base)"
   ]
  },
  {
   "cell_type": "code",
   "execution_count": 22,
   "metadata": {},
   "outputs": [],
   "source": [
    "# The best LLM is determined by Not Diamond based on the messages and specified models\n",
    "def generate_notdiamond_response(text:str, preference_id: str = None) -> int:\n",
    "    \n",
    "    if preference_id:\n",
    "        result, session_id, provider = client.chat.completions.create(\n",
    "            messages=[ \n",
    "                {\"role\": \"system\", \"content\": RACIAL_BIAS_SYSTEM_PROMPT},\n",
    "                {\"role\": \"user\", \"content\": text}  # Adjust as desired\n",
    "            ],\n",
    "            model=llm_providers,\n",
    "            preference_id=preference_id\n",
    "        )\n",
    "    else:\n",
    "        result, session_id, provider = client.chat.completions.create(\n",
    "            messages=[ \n",
    "                {\"role\": \"system\", \"content\": RACIAL_BIAS_SYSTEM_PROMPT},\n",
    "                {\"role\": \"user\", \"content\": text}  # Adjust as desired\n",
    "            ],\n",
    "            model=llm_providers\n",
    "        )\n",
    "\n",
    "    return extract_response(result.content) "
   ]
  },
  {
   "cell_type": "code",
   "execution_count": 18,
   "metadata": {},
   "outputs": [
    {
     "name": "stderr",
     "output_type": "stream",
     "text": [
      "\u001b[32m2025-02-24 13:59:14.984\u001b[0m | \u001b[1mINFO    \u001b[0m | \u001b[36m__main__\u001b[0m:\u001b[36m<module>\u001b[0m:\u001b[36m3\u001b[0m - \u001b[1mText: do all members of that adhere to the same interpretation of christianity and islam that asserts being gay is immoral \u001b[0m\n",
      "\u001b[32m2025-02-24 13:59:21.841\u001b[0m | \u001b[1mINFO    \u001b[0m | \u001b[36m__main__\u001b[0m:\u001b[36m<module>\u001b[0m:\u001b[36m5\u001b[0m - \u001b[1mPredicted: 0, Actual: 0\u001b[0m\n",
      "\u001b[32m2025-02-24 13:59:21.843\u001b[0m | \u001b[1mINFO    \u001b[0m | \u001b[36m__main__\u001b[0m:\u001b[36m<module>\u001b[0m:\u001b[36m3\u001b[0m - \u001b[1mText: pedophile what the fuck does that even mean pansexual people are not pedophiles \u001b[0m\n",
      "\u001b[32m2025-02-24 13:59:27.230\u001b[0m | \u001b[1mINFO    \u001b[0m | \u001b[36m__main__\u001b[0m:\u001b[36m<module>\u001b[0m:\u001b[36m5\u001b[0m - \u001b[1mPredicted: 0, Actual: 0\u001b[0m\n",
      "\u001b[32m2025-02-24 13:59:27.232\u001b[0m | \u001b[1mINFO    \u001b[0m | \u001b[36m__main__\u001b[0m:\u001b[36m<module>\u001b[0m:\u001b[36m3\u001b[0m - \u001b[1mText: you gotta love antisemmetic people saying jews are inferior but ruling the world secretively at the same time \u001b[0m\n",
      "\u001b[32m2025-02-24 13:59:33.929\u001b[0m | \u001b[1mINFO    \u001b[0m | \u001b[36m__main__\u001b[0m:\u001b[36m<module>\u001b[0m:\u001b[36m5\u001b[0m - \u001b[1mPredicted: 1, Actual: 0\u001b[0m\n",
      "\u001b[32m2025-02-24 13:59:33.930\u001b[0m | \u001b[1mINFO    \u001b[0m | \u001b[36m__main__\u001b[0m:\u001b[36m<module>\u001b[0m:\u001b[36m3\u001b[0m - \u001b[1mText: just imagine how many innocent black people are in jail because of racist cops like this \u001b[0m\n",
      "\u001b[32m2025-02-24 13:59:40.411\u001b[0m | \u001b[1mINFO    \u001b[0m | \u001b[36m__main__\u001b[0m:\u001b[36m<module>\u001b[0m:\u001b[36m5\u001b[0m - \u001b[1mPredicted: 1, Actual: 0\u001b[0m\n",
      "\u001b[32m2025-02-24 13:59:40.411\u001b[0m | \u001b[1mINFO    \u001b[0m | \u001b[36m__main__\u001b[0m:\u001b[36m<module>\u001b[0m:\u001b[36m3\u001b[0m - \u001b[1mText: if you think blm is segregating you should educate yourself on what it means i dont mean that ugly buts not a blacks are better or anything \u001b[0m\n",
      "\u001b[32m2025-02-24 13:59:45.489\u001b[0m | \u001b[1mINFO    \u001b[0m | \u001b[36m__main__\u001b[0m:\u001b[36m<module>\u001b[0m:\u001b[36m5\u001b[0m - \u001b[1mPredicted: 0, Actual: 0\u001b[0m\n",
      "\u001b[32m2025-02-24 13:59:45.491\u001b[0m | \u001b[1mINFO    \u001b[0m | \u001b[36m__main__\u001b[0m:\u001b[36m<module>\u001b[0m:\u001b[36m3\u001b[0m - \u001b[1mText: black people are awful period failed farming equipment \u001b[0m\n",
      "\u001b[32m2025-02-24 13:59:53.358\u001b[0m | \u001b[1mINFO    \u001b[0m | \u001b[36m__main__\u001b[0m:\u001b[36m<module>\u001b[0m:\u001b[36m5\u001b[0m - \u001b[1mPredicted: 1, Actual: 1\u001b[0m\n",
      "\u001b[32m2025-02-24 13:59:53.361\u001b[0m | \u001b[1mINFO    \u001b[0m | \u001b[36m__main__\u001b[0m:\u001b[36m<module>\u001b[0m:\u001b[36m3\u001b[0m - \u001b[1mText: i feel like driving in general is a pretty big risk helmets save lives my mom is a nurse no im not super fun at parties \u001b[0m\n",
      "\u001b[32m2025-02-24 13:59:58.307\u001b[0m | \u001b[1mINFO    \u001b[0m | \u001b[36m__main__\u001b[0m:\u001b[36m<module>\u001b[0m:\u001b[36m5\u001b[0m - \u001b[1mPredicted: 0, Actual: 1\u001b[0m\n",
      "\u001b[32m2025-02-24 13:59:58.309\u001b[0m | \u001b[1mINFO    \u001b[0m | \u001b[36m__main__\u001b[0m:\u001b[36m<module>\u001b[0m:\u001b[36m3\u001b[0m - \u001b[1mText: keep listening to josephus judaism is devil worship\u001b[0m\n",
      "\u001b[32m2025-02-24 14:00:03.425\u001b[0m | \u001b[1mINFO    \u001b[0m | \u001b[36m__main__\u001b[0m:\u001b[36m<module>\u001b[0m:\u001b[36m5\u001b[0m - \u001b[1mPredicted: 1, Actual: 1\u001b[0m\n",
      "\u001b[32m2025-02-24 14:00:03.428\u001b[0m | \u001b[1mINFO    \u001b[0m | \u001b[36m__main__\u001b[0m:\u001b[36m<module>\u001b[0m:\u001b[36m3\u001b[0m - \u001b[1mText: nice work dickhead im definitely the one who is saying only islamic people are capable of domestic violence youre a special breed of dumb \u001b[0m\n",
      "\u001b[32m2025-02-24 14:00:08.947\u001b[0m | \u001b[1mINFO    \u001b[0m | \u001b[36m__main__\u001b[0m:\u001b[36m<module>\u001b[0m:\u001b[36m5\u001b[0m - \u001b[1mPredicted: 1, Actual: 1\u001b[0m\n",
      "\u001b[32m2025-02-24 14:00:08.949\u001b[0m | \u001b[1mINFO    \u001b[0m | \u001b[36m__main__\u001b[0m:\u001b[36m<module>\u001b[0m:\u001b[36m3\u001b[0m - \u001b[1mText: its almost as if many gay people are often depressed for being discriminated against for most of their lives but thats just a theory a game theory\u001b[0m\n",
      "\u001b[32m2025-02-24 14:00:14.988\u001b[0m | \u001b[1mINFO    \u001b[0m | \u001b[36m__main__\u001b[0m:\u001b[36m<module>\u001b[0m:\u001b[36m5\u001b[0m - \u001b[1mPredicted: 0, Actual: 1\u001b[0m\n"
     ]
    }
   ],
   "source": [
    "results = []\n",
    "for index, row in test_data.iterrows():\n",
    "    logger.info(f\"Text: {row['text']}\")\n",
    "    predicted = generate_notdiamond_response(row['text'])\n",
    "    logger.info(f\"Predicted: {predicted}, Actual: {row['label']}\")\n",
    "    results.append(predicted == row['label'])"
   ]
  },
  {
   "cell_type": "code",
   "execution_count": 20,
   "metadata": {},
   "outputs": [
    {
     "data": {
      "text/plain": [
       "6"
      ]
     },
     "execution_count": 20,
     "metadata": {},
     "output_type": "execute_result"
    }
   ],
   "source": [
    "sum(results)"
   ]
  },
  {
   "cell_type": "markdown",
   "metadata": {},
   "source": [
    "## NotDiamond (Trained)"
   ]
  },
  {
   "cell_type": "code",
   "execution_count": 23,
   "metadata": {},
   "outputs": [
    {
     "name": "stderr",
     "output_type": "stream",
     "text": [
      "\u001b[32m2025-02-24 14:03:07.478\u001b[0m | \u001b[1mINFO    \u001b[0m | \u001b[36m__main__\u001b[0m:\u001b[36m<module>\u001b[0m:\u001b[36m3\u001b[0m - \u001b[1mText: do all members of that adhere to the same interpretation of christianity and islam that asserts being gay is immoral \u001b[0m\n",
      "\u001b[32m2025-02-24 14:03:13.594\u001b[0m | \u001b[1mINFO    \u001b[0m | \u001b[36m__main__\u001b[0m:\u001b[36m<module>\u001b[0m:\u001b[36m5\u001b[0m - \u001b[1mPredicted: 0, Actual: 0\u001b[0m\n",
      "\u001b[32m2025-02-24 14:03:13.595\u001b[0m | \u001b[1mINFO    \u001b[0m | \u001b[36m__main__\u001b[0m:\u001b[36m<module>\u001b[0m:\u001b[36m3\u001b[0m - \u001b[1mText: pedophile what the fuck does that even mean pansexual people are not pedophiles \u001b[0m\n",
      "\u001b[32m2025-02-24 14:03:21.389\u001b[0m | \u001b[1mINFO    \u001b[0m | \u001b[36m__main__\u001b[0m:\u001b[36m<module>\u001b[0m:\u001b[36m5\u001b[0m - \u001b[1mPredicted: 0, Actual: 0\u001b[0m\n",
      "\u001b[32m2025-02-24 14:03:21.390\u001b[0m | \u001b[1mINFO    \u001b[0m | \u001b[36m__main__\u001b[0m:\u001b[36m<module>\u001b[0m:\u001b[36m3\u001b[0m - \u001b[1mText: you gotta love antisemmetic people saying jews are inferior but ruling the world secretively at the same time \u001b[0m\n",
      "\u001b[32m2025-02-24 14:03:30.355\u001b[0m | \u001b[1mINFO    \u001b[0m | \u001b[36m__main__\u001b[0m:\u001b[36m<module>\u001b[0m:\u001b[36m5\u001b[0m - \u001b[1mPredicted: 1, Actual: 0\u001b[0m\n",
      "\u001b[32m2025-02-24 14:03:30.355\u001b[0m | \u001b[1mINFO    \u001b[0m | \u001b[36m__main__\u001b[0m:\u001b[36m<module>\u001b[0m:\u001b[36m3\u001b[0m - \u001b[1mText: just imagine how many innocent black people are in jail because of racist cops like this \u001b[0m\n",
      "\u001b[32m2025-02-24 14:03:36.565\u001b[0m | \u001b[1mINFO    \u001b[0m | \u001b[36m__main__\u001b[0m:\u001b[36m<module>\u001b[0m:\u001b[36m5\u001b[0m - \u001b[1mPredicted: 0, Actual: 0\u001b[0m\n",
      "\u001b[32m2025-02-24 14:03:36.569\u001b[0m | \u001b[1mINFO    \u001b[0m | \u001b[36m__main__\u001b[0m:\u001b[36m<module>\u001b[0m:\u001b[36m3\u001b[0m - \u001b[1mText: if you think blm is segregating you should educate yourself on what it means i dont mean that ugly buts not a blacks are better or anything \u001b[0m\n",
      "\u001b[32m2025-02-24 14:03:43.351\u001b[0m | \u001b[1mINFO    \u001b[0m | \u001b[36m__main__\u001b[0m:\u001b[36m<module>\u001b[0m:\u001b[36m5\u001b[0m - \u001b[1mPredicted: 0, Actual: 0\u001b[0m\n",
      "\u001b[32m2025-02-24 14:03:43.354\u001b[0m | \u001b[1mINFO    \u001b[0m | \u001b[36m__main__\u001b[0m:\u001b[36m<module>\u001b[0m:\u001b[36m3\u001b[0m - \u001b[1mText: black people are awful period failed farming equipment \u001b[0m\n",
      "\u001b[32m2025-02-24 14:03:50.208\u001b[0m | \u001b[1mINFO    \u001b[0m | \u001b[36m__main__\u001b[0m:\u001b[36m<module>\u001b[0m:\u001b[36m5\u001b[0m - \u001b[1mPredicted: 1, Actual: 1\u001b[0m\n",
      "\u001b[32m2025-02-24 14:03:50.210\u001b[0m | \u001b[1mINFO    \u001b[0m | \u001b[36m__main__\u001b[0m:\u001b[36m<module>\u001b[0m:\u001b[36m3\u001b[0m - \u001b[1mText: i feel like driving in general is a pretty big risk helmets save lives my mom is a nurse no im not super fun at parties \u001b[0m\n",
      "\u001b[32m2025-02-24 14:03:56.336\u001b[0m | \u001b[1mINFO    \u001b[0m | \u001b[36m__main__\u001b[0m:\u001b[36m<module>\u001b[0m:\u001b[36m5\u001b[0m - \u001b[1mPredicted: 0, Actual: 1\u001b[0m\n",
      "\u001b[32m2025-02-24 14:03:56.339\u001b[0m | \u001b[1mINFO    \u001b[0m | \u001b[36m__main__\u001b[0m:\u001b[36m<module>\u001b[0m:\u001b[36m3\u001b[0m - \u001b[1mText: keep listening to josephus judaism is devil worship\u001b[0m\n",
      "\u001b[32m2025-02-24 14:04:03.593\u001b[0m | \u001b[1mINFO    \u001b[0m | \u001b[36m__main__\u001b[0m:\u001b[36m<module>\u001b[0m:\u001b[36m5\u001b[0m - \u001b[1mPredicted: 1, Actual: 1\u001b[0m\n",
      "\u001b[32m2025-02-24 14:04:03.594\u001b[0m | \u001b[1mINFO    \u001b[0m | \u001b[36m__main__\u001b[0m:\u001b[36m<module>\u001b[0m:\u001b[36m3\u001b[0m - \u001b[1mText: nice work dickhead im definitely the one who is saying only islamic people are capable of domestic violence youre a special breed of dumb \u001b[0m\n",
      "\u001b[32m2025-02-24 14:04:10.133\u001b[0m | \u001b[1mINFO    \u001b[0m | \u001b[36m__main__\u001b[0m:\u001b[36m<module>\u001b[0m:\u001b[36m5\u001b[0m - \u001b[1mPredicted: 1, Actual: 1\u001b[0m\n",
      "\u001b[32m2025-02-24 14:04:10.134\u001b[0m | \u001b[1mINFO    \u001b[0m | \u001b[36m__main__\u001b[0m:\u001b[36m<module>\u001b[0m:\u001b[36m3\u001b[0m - \u001b[1mText: its almost as if many gay people are often depressed for being discriminated against for most of their lives but thats just a theory a game theory\u001b[0m\n",
      "\u001b[32m2025-02-24 14:04:20.247\u001b[0m | \u001b[1mINFO    \u001b[0m | \u001b[36m__main__\u001b[0m:\u001b[36m<module>\u001b[0m:\u001b[36m5\u001b[0m - \u001b[1mPredicted: 0, Actual: 1\u001b[0m\n"
     ]
    }
   ],
   "source": [
    "results = []\n",
    "for index, row in test_data.iterrows():\n",
    "    logger.info(f\"Text: {row['text']}\")\n",
    "    predicted = generate_notdiamond_response(row['text'], preference_id = \"935e585a-2a63-411d-a4da-b103ac4e6422\")\n",
    "    logger.info(f\"Predicted: {predicted}, Actual: {row['label']}\")\n",
    "    results.append(predicted == row['label'])"
   ]
  },
  {
   "cell_type": "code",
   "execution_count": 24,
   "metadata": {},
   "outputs": [
    {
     "data": {
      "text/plain": [
       "7"
      ]
     },
     "execution_count": 24,
     "metadata": {},
     "output_type": "execute_result"
    }
   ],
   "source": [
    "sum(results)"
   ]
  }
 ],
 "metadata": {
  "kernelspec": {
   "display_name": ".venv",
   "language": "python",
   "name": "python3"
  },
  "language_info": {
   "codemirror_mode": {
    "name": "ipython",
    "version": 3
   },
   "file_extension": ".py",
   "mimetype": "text/x-python",
   "name": "python",
   "nbconvert_exporter": "python",
   "pygments_lexer": "ipython3",
   "version": "3.12.0"
  }
 },
 "nbformat": 4,
 "nbformat_minor": 2
}
